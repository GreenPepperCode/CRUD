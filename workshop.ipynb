{
 "cells": [
  {
   "cell_type": "markdown",
   "metadata": {},
   "source": [
    "SCript de creation des différente tables"
   ]
  },
  {
   "cell_type": "markdown",
   "metadata": {},
   "source": [
    "Table aliment"
   ]
  },
  {
   "cell_type": "code",
   "execution_count": null,
   "metadata": {
    "vscode": {
     "languageId": "sql"
    }
   },
   "outputs": [],
   "source": [
    "CREATE TABLE aliment (\n",
    "  id SERIAL PRIMARY KEY,\n",
    "  nom VARCHAR(100) NOT NULL,\n",
    "  marque VARCHAR(100) DEFAULT NULL,\n",
    "  sucre FLOAT DEFAULT NULL,\n",
    "  calories INTEGER NOT NULL,\n",
    "  graisses FLOAT DEFAULT NULL,\n",
    "  proteines FLOAT DEFAULT NULL,\n",
    "  bio BOOLEAN DEFAULT FALSE\n",
    ");\n"
   ]
  },
  {
   "cell_type": "markdown",
   "metadata": {},
   "source": [
    "Table utilisateur"
   ]
  },
  {
   "cell_type": "code",
   "execution_count": null,
   "metadata": {
    "vscode": {
     "languageId": "sql"
    }
   },
   "outputs": [],
   "source": [
    "CREATE TABLE utilisateur (\n",
    "  id SERIAL PRIMARY KEY,\n",
    "  nom VARCHAR(100) DEFAULT NULL,\n",
    "  prenom VARCHAR(100) DEFAULT NULL,\n",
    "  email VARCHAR(255) NOT NULL UNIQUE\n",
    ");\n"
   ]
  },
  {
   "cell_type": "markdown",
   "metadata": {},
   "source": [
    "Script de seeding aliment"
   ]
  },
  {
   "cell_type": "code",
   "execution_count": null,
   "metadata": {
    "vscode": {
     "languageId": "sql"
    }
   },
   "outputs": [],
   "source": [
    "INSERT INTO aliment (nom, marque, sucre, calories, graisses, proteines, bio) VALUES\n",
    "('pomme', 'sans marque', 19.1, 72, 0.2, 0.4, FALSE),\n",
    "('poire', 'sans marque', 27.5, 134, 0.2, 1.1, TRUE),\n",
    "('banane', 'chiquita', 24, 101, 0.3, 1.1, FALSE),\n",
    "('jambon', 'herta', 0.2, 34, 0.8, 6.6, FALSE),\n",
    "('compote', 'andros', 11, 51, 0, 0.5, FALSE),\n",
    "('steak haché', 'charal', 0.8, 68, 4.8, 4.8, FALSE),\n",
    "('saumon', 'guyader', 0, 206, 12.3, 22.1, FALSE),\n",
    "('haricots verts', 'bonduelle', 5.8, 25, 0.1, 1.5, FALSE),\n",
    "('riz', 'oncle benz', 28.2, 130, 0.3, 2.7, FALSE),\n",
    "('pâtes completes', 'barilla', 64, 353, 2.7, 14, TRUE),\n",
    "('blanc de dinde', 'père dodu', 0.6, 98, 0.9, 22, FALSE),\n",
    "('filet de poulet', 'le gaulois', 0, 121, 1.8, 26.2, FALSE),\n",
    "('muesli', 'bjorg', 26.5, 170, 5, 3.5, TRUE),\n",
    "('café', 'carte noire', 0, 0, 0, 0, FALSE),\n",
    "('jus d''orange', 'innocent', 16, 74, 0, 1.6, FALSE),\n",
    "('jus de pomme', 'andros', 24, 100, 0.2, 0.2, TRUE),\n",
    "('pomme de terre', 'doréac', 21.1, 104, 0.2, 2.8, FALSE),\n",
    "('oeuf', 'naturalia', 0.4, 74, 5.1, 6.5, TRUE),\n",
    "('baguette', 'sans marque', 36.1, 185, 1.2, 7.5, FALSE),\n",
    "('lait d''amande', 'bjorg', 6.1, 80, 5.3, 1.5, TRUE);\n"
   ]
  },
  {
   "cell_type": "markdown",
   "metadata": {},
   "source": [
    "Seeding utilisateur"
   ]
  },
  {
   "cell_type": "code",
   "execution_count": null,
   "metadata": {
    "vscode": {
     "languageId": "sql"
    }
   },
   "outputs": [],
   "source": [
    "INSERT INTO utilisateur (nom, prenom, email) VALUES\n",
    "('durantay', 'quentin', 'qentin@gmail.com'),\n",
    "('dupont', 'marie', 'marie@hotmail.fr'),\n",
    "('miller', 'vincent', 'vm@yahoo.com'),\n",
    "('zuckerberg', 'marc', 'marc@gmail.com'),\n",
    "('paul', 'pierre', 'pp@orange.fr'),\n",
    "('de vauclerc', 'lisa', 'lisadv@gmail.com'),\n",
    "('gluntig', 'éléonore', 'glunt@sfr.com'),\n",
    "('cavill', 'henry', 'henry@outlook.fr'),\n",
    "('hopper', 'lionel', 'hpp@gmail.com'),\n",
    "('tember', 'fabienne', 'fabienne@yopmail.com');\n"
   ]
  },
  {
   "cell_type": "markdown",
   "metadata": {},
   "source": [
    "Compter le nombre d'adresse \"gmail\""
   ]
  },
  {
   "cell_type": "code",
   "execution_count": null,
   "metadata": {
    "vscode": {
     "languageId": "sql"
    }
   },
   "outputs": [],
   "source": [
    "SELECT COUNT(*) \n",
    "FROM utilisateur \n",
    "WHERE email LIKE '%gmail.com';"
   ]
  },
  {
   "cell_type": "markdown",
   "metadata": {},
   "source": [
    "Nombre d'enregistrement \"pomme\""
   ]
  },
  {
   "cell_type": "code",
   "execution_count": null,
   "metadata": {
    "vscode": {
     "languageId": "sql"
    }
   },
   "outputs": [],
   "source": [
    "SELECT COUNT(DISTINCT nom) \n",
    "FROM aliment \n",
    "WHERE nom LIKE '%pomme%';"
   ]
  },
  {
   "cell_type": "markdown",
   "metadata": {},
   "source": [
    "Utilisation de l'alias (avec AVG dans le screenshot_1)"
   ]
  },
  {
   "cell_type": "code",
   "execution_count": null,
   "metadata": {
    "vscode": {
     "languageId": "sql"
    }
   },
   "outputs": [],
   "source": [
    "SELECT COUNT(DISTINCT nom) AS produits_contenant_pomme\n",
    "FROM aliment \n",
    "WHERE nom LIKE '%pomme%';"
   ]
  },
  {
   "cell_type": "markdown",
   "metadata": {},
   "source": [
    "Utilisation d'une vue créer (screenshot_2)"
   ]
  },
  {
   "cell_type": "markdown",
   "metadata": {},
   "source": [
    "opération de selection sur la vue(screenshot_3 et screenshot_4)"
   ]
  },
  {
   "cell_type": "markdown",
   "metadata": {},
   "source": [
    "utilisation des jointures (screenshot_5)"
   ]
  }
 ],
 "metadata": {
  "language_info": {
   "name": "python"
  }
 },
 "nbformat": 4,
 "nbformat_minor": 2
}
